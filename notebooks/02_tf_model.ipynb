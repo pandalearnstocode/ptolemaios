{
 "metadata": {
  "language_info": {
   "codemirror_mode": {
    "name": "ipython",
    "version": 3
   },
   "file_extension": ".py",
   "mimetype": "text/x-python",
   "name": "python",
   "nbconvert_exporter": "python",
   "pygments_lexer": "ipython3",
   "version": "3.8.5-final"
  },
  "orig_nbformat": 2,
  "kernelspec": {
   "name": "python3",
   "display_name": "Python 3",
   "language": "python"
  }
 },
 "nbformat": 4,
 "nbformat_minor": 2,
 "cells": [
  {
   "cell_type": "code",
   "execution_count": 1,
   "metadata": {},
   "outputs": [
    {
     "output_type": "stream",
     "name": "stdout",
     "text": [
      "WARNING:tensorflow:From /home/aritra/anaconda3/lib/python3.8/site-packages/tensorflow/python/compat/v2_compat.py:96: disable_resource_variables (from tensorflow.python.ops.variable_scope) is deprecated and will be removed in a future version.\nInstructions for updating:\nnon-resource variables are not supported in the long term\n"
     ]
    },
    {
     "output_type": "execute_result",
     "data": {
      "text/plain": [
       "1"
      ]
     },
     "metadata": {},
     "execution_count": 1
    }
   ],
   "source": [
    "import numpy as np \n",
    "import pandas as pd\n",
    "import tensorflow.compat.v1 as tf\n",
    "tf.disable_v2_behavior()\n",
    "import matplotlib.pyplot as plt \n",
    "from loguru import logger\n",
    "\n",
    "def debug_only(record):\n",
    "    return record[\"level\"].name == \"CRITICAL\"\n",
    "\n",
    "logger.add(\"critical.log\",rotation=\"12:00\", filter=debug_only)"
   ]
  },
  {
   "cell_type": "code",
   "execution_count": 2,
   "metadata": {},
   "outputs": [],
   "source": [
    "# np.random.seed(101) \n",
    "# x = np.linspace(0, 50, 50) \n",
    "# y = np.linspace(0, 50, 50) \n",
    "# x += np.random.uniform(-4, 4, 50) \n",
    "# y += np.random.uniform(-4, 4, 50) \n",
    "# n = len(x) # Number of data points \n",
    "# pd.DataFrame({\"X\":x,\"Y\":y}).to_csv(\"basic_data.csv\",index = None)"
   ]
  },
  {
   "cell_type": "code",
   "execution_count": 3,
   "metadata": {},
   "outputs": [],
   "source": [
    "df = pd.read_csv(\"basic_data.csv\")\n",
    "n = df.shape[0]\n",
    "x = df['X'].values\n",
    "y = df['Y'].values"
   ]
  },
  {
   "cell_type": "code",
   "execution_count": 4,
   "metadata": {},
   "outputs": [],
   "source": [
    "def run_regression(x,y,n, learning_rate = 0.01,training_epochs = 1000):\n",
    "    X = tf.placeholder(\"float\") \n",
    "    Y = tf.placeholder(\"float\") \n",
    "    W = tf.Variable(np.random.randn(), name = \"W\") \n",
    "    b = tf.Variable(np.random.randn(), name = \"b\") \n",
    "    y_pred = tf.add(tf.multiply(X, W), b) \n",
    "    cost = tf.reduce_sum(tf.pow(y_pred-Y, 2)) / (2 * n) \n",
    "    optimizer = tf.train.GradientDescentOptimizer(learning_rate).minimize(cost) \n",
    "    init = tf.global_variables_initializer() \n",
    "    with tf.Session() as sess: \n",
    "        sess.run(init) \n",
    "        for epoch in range(training_epochs): \n",
    "            for (_x, _y) in zip(x, y): \n",
    "                sess.run(optimizer, feed_dict = {X : _x, Y : _y}) \n",
    "            if (epoch + 1) % 50 == 0: \n",
    "                c = sess.run(cost, feed_dict = {X : x, Y : y}) \n",
    "                msg = \"Epoch\", (epoch + 1), \": cost =\", c, \"W =\", sess.run(W), \"b =\", sess.run(b)\n",
    "                logger.info(f\"{msg}\") \n",
    "        \n",
    "        training_cost = sess.run(cost, feed_dict ={X: x, Y: y}) \n",
    "        weight = sess.run(W) \n",
    "        bias = sess.run(b) \n",
    "    predictions = weight * x + bias\n",
    "    result = \"Y = \"+ str(training_cost)+ \" + Weight * \"+  str(weight) + \" + bias * \"+ str(bias) \n",
    "    response = {\"output\":result, \"prediction\":list(predictions.round(4))}\n",
    "    return response\n"
   ]
  },
  {
   "cell_type": "code",
   "execution_count": 5,
   "metadata": {},
   "outputs": [
    {
     "output_type": "stream",
     "name": "stderr",
     "text": [
      "2021-02-16 15:59:49.757 | INFO     | __main__:run_regression:18 - ('Epoch', 50, ': cost =', 5.209606, 'W =', 1.0313451, 'b =', -0.5329573)\n",
      "2021-02-16 15:59:50.753 | INFO     | __main__:run_regression:18 - ('Epoch', 100, ': cost =', 5.2136936, 'W =', 1.0304755, 'b =', -0.4904378)\n",
      "2021-02-16 15:59:51.775 | INFO     | __main__:run_regression:18 - ('Epoch', 150, ': cost =', 5.21785, 'W =', 1.0296988, 'b =', -0.4524594)\n",
      "2021-02-16 15:59:52.746 | INFO     | __main__:run_regression:18 - ('Epoch', 200, ': cost =', 5.2219677, 'W =', 1.029005, 'b =', -0.41853786)\n",
      "2021-02-16 15:59:53.689 | INFO     | __main__:run_regression:18 - ('Epoch', 250, ': cost =', 5.2259665, 'W =', 1.0283854, 'b =', -0.38823915)\n",
      "2021-02-16 15:59:54.756 | INFO     | __main__:run_regression:18 - ('Epoch', 300, ': cost =', 5.229796, 'W =', 1.0278319, 'b =', -0.36117733)\n",
      "2021-02-16 15:59:55.778 | INFO     | __main__:run_regression:18 - ('Epoch', 350, ': cost =', 5.233419, 'W =', 1.0273376, 'b =', -0.33700684)\n",
      "2021-02-16 15:59:56.693 | INFO     | __main__:run_regression:18 - ('Epoch', 400, ': cost =', 5.2368193, 'W =', 1.026896, 'b =', -0.31541747)\n",
      "2021-02-16 15:59:57.647 | INFO     | __main__:run_regression:18 - ('Epoch', 450, ': cost =', 5.239989, 'W =', 1.0265017, 'b =', -0.29613394)\n",
      "2021-02-16 15:59:58.547 | INFO     | __main__:run_regression:18 - ('Epoch', 500, ': cost =', 5.242923, 'W =', 1.0261494, 'b =', -0.27891082)\n",
      "2021-02-16 15:59:59.443 | INFO     | __main__:run_regression:18 - ('Epoch', 550, ': cost =', 5.245628, 'W =', 1.0258348, 'b =', -0.26352683)\n",
      "2021-02-16 16:00:00.368 | INFO     | __main__:run_regression:18 - ('Epoch', 600, ': cost =', 5.2481103, 'W =', 1.0255538, 'b =', -0.24978715)\n",
      "2021-02-16 16:00:01.273 | INFO     | __main__:run_regression:18 - ('Epoch', 650, ': cost =', 5.2503805, 'W =', 1.0253029, 'b =', -0.23751447)\n",
      "2021-02-16 16:00:02.163 | INFO     | __main__:run_regression:18 - ('Epoch', 700, ': cost =', 5.25245, 'W =', 1.0250787, 'b =', -0.22655255)\n",
      "2021-02-16 16:00:03.046 | INFO     | __main__:run_regression:18 - ('Epoch', 750, ': cost =', 5.254332, 'W =', 1.0248785, 'b =', -0.21676208)\n",
      "2021-02-16 16:00:03.953 | INFO     | __main__:run_regression:18 - ('Epoch', 800, ': cost =', 5.2560387, 'W =', 1.0246996, 'b =', -0.20801724)\n",
      "2021-02-16 16:00:04.839 | INFO     | __main__:run_regression:18 - ('Epoch', 850, ': cost =', 5.2575846, 'W =', 1.0245398, 'b =', -0.2002066)\n",
      "2021-02-16 16:00:05.751 | INFO     | __main__:run_regression:18 - ('Epoch', 900, ': cost =', 5.258983, 'W =', 1.0243971, 'b =', -0.1932305)\n",
      "2021-02-16 16:00:06.657 | INFO     | __main__:run_regression:18 - ('Epoch', 950, ': cost =', 5.260244, 'W =', 1.0242697, 'b =', -0.18699893)\n",
      "2021-02-16 16:00:07.556 | INFO     | __main__:run_regression:18 - ('Epoch', 1000, ': cost =', 5.261382, 'W =', 1.0241559, 'b =', -0.18143325)\n"
     ]
    }
   ],
   "source": [
    "response = run_regression(x,y,n, learning_rate = 0.01,training_epochs = 1000)"
   ]
  },
  {
   "cell_type": "code",
   "execution_count": 6,
   "metadata": {},
   "outputs": [
    {
     "output_type": "execute_result",
     "data": {
      "text/plain": [
       "{'output': 'Y = 5.261382 + Weight * 1.0241559 + bias * -0.18143325',\n",
       " 'prediction': [-0.0471,\n",
       "  1.4426,\n",
       "  -1.9546,\n",
       "  0.2624,\n",
       "  5.5168,\n",
       "  7.7796,\n",
       "  4.5073,\n",
       "  10.3589,\n",
       "  9.9942,\n",
       "  6.6837,\n",
       "  10.7134,\n",
       "  10.1027,\n",
       "  9.7529,\n",
       "  15.7443,\n",
       "  18.2632,\n",
       "  13.3015,\n",
       "  13.1275,\n",
       "  18.4329,\n",
       "  20.5058,\n",
       "  17.8413,\n",
       "  22.238,\n",
       "  21.9112,\n",
       "  19.1104,\n",
       "  20.8879,\n",
       "  22.3352,\n",
       "  29.9951,\n",
       "  27.1594,\n",
       "  28.6806,\n",
       "  31.0041,\n",
       "  30.469,\n",
       "  34.5553,\n",
       "  34.7382,\n",
       "  32.4656,\n",
       "  33.1357,\n",
       "  39.061,\n",
       "  35.1144,\n",
       "  40.432,\n",
       "  41.1917,\n",
       "  39.8434,\n",
       "  44.0372,\n",
       "  38.3202,\n",
       "  39.4119,\n",
       "  45.362,\n",
       "  47.9553,\n",
       "  43.0118,\n",
       "  45.0073,\n",
       "  49.3045,\n",
       "  46.1858,\n",
       "  51.6312,\n",
       "  50.9251]}"
      ]
     },
     "metadata": {},
     "execution_count": 6
    }
   ],
   "source": [
    "response"
   ]
  },
  {
   "cell_type": "code",
   "execution_count": null,
   "metadata": {},
   "outputs": [],
   "source": []
  }
 ]
}